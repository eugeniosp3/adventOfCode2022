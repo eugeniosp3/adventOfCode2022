{
 "cells": [
  {
   "cell_type": "code",
   "execution_count": 1,
   "id": "cc9783e2-9a2e-44cc-9797-03b1d1257ecd",
   "metadata": {},
   "outputs": [],
   "source": [
    "import pandas as pd"
   ]
  },
  {
   "cell_type": "code",
   "execution_count": 2,
   "id": "a21a35ca-ee36-4e48-95dc-99029ad420ce",
   "metadata": {},
   "outputs": [],
   "source": [
    "df = pd.read_csv(\"day2.csv\", header=None)"
   ]
  },
  {
   "cell_type": "code",
   "execution_count": 3,
   "id": "d73c43a1-82e6-4873-a9ce-1a79bb607e4d",
   "metadata": {},
   "outputs": [],
   "source": [
    "handStrat = {\n",
    "\"A\":\"Y\",\n",
    "\"B\":\"X\",\n",
    "\"C\":\"Z\"\n",
    "}"
   ]
  },
  {
   "cell_type": "code",
   "execution_count": 4,
   "id": "db3aae59-2cda-4988-822c-ec250afb9a0b",
   "metadata": {},
   "outputs": [],
   "source": [
    "df['opponent'] = df[0].str.split(' ').apply(lambda x: x[0])\n",
    "df['unsure'] = df[0].str.split(' ').apply(lambda x: x[1])\n",
    "df['myStrate'] = df.opponent.map(handStrat)"
   ]
  },
  {
   "cell_type": "code",
   "execution_count": 5,
   "id": "05ae9bce-66db-4013-9a78-26d1a8f50f12",
   "metadata": {},
   "outputs": [],
   "source": [
    "df['resultHands'] = df.opponent + df.myStrate"
   ]
  },
  {
   "cell_type": "code",
   "execution_count": 6,
   "id": "b0086504-74d5-4bac-aea5-44b32202a837",
   "metadata": {},
   "outputs": [
    {
     "data": {
      "text/plain": [
       "0       CZ\n",
       "1       BX\n",
       "2       CZ\n",
       "3       CZ\n",
       "4       BX\n",
       "        ..\n",
       "2495    BX\n",
       "2496    AY\n",
       "2497    AY\n",
       "2498    CZ\n",
       "2499    BX\n",
       "Name: resultHands, Length: 2500, dtype: object"
      ]
     },
     "execution_count": 6,
     "metadata": {},
     "output_type": "execute_result"
    }
   ],
   "source": [
    "df.resultHands"
   ]
  },
  {
   "cell_type": "code",
   "execution_count": 7,
   "id": "6908894e-e7db-40d9-a483-1f5f1cb88141",
   "metadata": {},
   "outputs": [],
   "source": [
    "points = {\n",
    "    'AY': 8,\n",
    "    'BY':5,\n",
    "    'CY':2,\n",
    "    'AX':4,\n",
    "    'BX' : 1,\n",
    "    'CX' : 7,\n",
    "    'AZ':3,\n",
    "    'BZ':9,\n",
    "    'CZ' : 6\n",
    "}"
   ]
  },
  {
   "cell_type": "code",
   "execution_count": 8,
   "id": "06b0baf1-0c77-425f-8018-6449dd8e3b71",
   "metadata": {},
   "outputs": [],
   "source": [
    "df['pointsAwarded'] = df.resultHands.map(points)"
   ]
  },
  {
   "cell_type": "code",
   "execution_count": 9,
   "id": "376b81eb-2058-439a-b4e6-13a0b2d0831a",
   "metadata": {},
   "outputs": [
    {
     "data": {
      "text/plain": [
       "11215"
      ]
     },
     "execution_count": 9,
     "metadata": {},
     "output_type": "execute_result"
    }
   ],
   "source": [
    "df.pointsAwarded.sum()"
   ]
  },
  {
   "cell_type": "code",
   "execution_count": 10,
   "id": "e1c0787b-efa2-472d-b785-d8457ff26576",
   "metadata": {},
   "outputs": [
    {
     "data": {
      "text/plain": [
       "0       6\n",
       "1       1\n",
       "2       6\n",
       "3       6\n",
       "4       1\n",
       "       ..\n",
       "2495    1\n",
       "2496    8\n",
       "2497    8\n",
       "2498    6\n",
       "2499    1\n",
       "Name: pointsAwarded, Length: 2500, dtype: int64"
      ]
     },
     "execution_count": 10,
     "metadata": {},
     "output_type": "execute_result"
    }
   ],
   "source": [
    "df['pointsAwarded']"
   ]
  },
  {
   "cell_type": "code",
   "execution_count": 11,
   "id": "058a4015-2801-4fc3-b70e-ebb1c41ce432",
   "metadata": {},
   "outputs": [],
   "source": [
    "df.drop(0, axis=1)\n",
    "df['encryptedStrategyGuide'] = df.opponent + df.unsure "
   ]
  },
  {
   "cell_type": "code",
   "execution_count": 13,
   "id": "194edd5d",
   "metadata": {},
   "outputs": [
    {
     "data": {
      "text/plain": [
       "0       CX\n",
       "1       BY\n",
       "2       CZ\n",
       "3       CZ\n",
       "4       BX\n",
       "        ..\n",
       "2495    BZ\n",
       "2496    AX\n",
       "2497    AX\n",
       "2498    CY\n",
       "2499    BX\n",
       "Name: encryptedStrategyGuide, Length: 2500, dtype: object"
      ]
     },
     "execution_count": 13,
     "metadata": {},
     "output_type": "execute_result"
    }
   ],
   "source": [
    "df.encryptedStrategyGuide"
   ]
  },
  {
   "cell_type": "code",
   "execution_count": 14,
   "id": "f779be7a-b961-49ed-8cc5-c92834640aa4",
   "metadata": {},
   "outputs": [
    {
     "data": {
      "text/plain": [
       "0       7\n",
       "1       5\n",
       "2       6\n",
       "3       6\n",
       "4       1\n",
       "       ..\n",
       "2495    9\n",
       "2496    4\n",
       "2497    4\n",
       "2498    2\n",
       "2499    1\n",
       "Name: encryptedStrategyGuide, Length: 2500, dtype: int64"
      ]
     },
     "execution_count": 14,
     "metadata": {},
     "output_type": "execute_result"
    }
   ],
   "source": [
    "df['encryptedStrategyGuide'].map(points)"
   ]
  },
  {
   "cell_type": "code",
   "execution_count": 15,
   "id": "1af381b5-566a-4b40-930e-248b3f93b1e5",
   "metadata": {},
   "outputs": [
    {
     "data": {
      "text/plain": [
       "0       CX\n",
       "1       BY\n",
       "2       CZ\n",
       "3       CZ\n",
       "4       BX\n",
       "        ..\n",
       "2495    BZ\n",
       "2496    AX\n",
       "2497    AX\n",
       "2498    CY\n",
       "2499    BX\n",
       "Name: encryptedStrategyGuide, Length: 2500, dtype: object"
      ]
     },
     "execution_count": 15,
     "metadata": {},
     "output_type": "execute_result"
    }
   ],
   "source": [
    "df['encryptedStrategyGuide']"
   ]
  },
  {
   "cell_type": "code",
   "execution_count": 17,
   "id": "2b20f039-2ffc-4f3f-9e6b-7407c4c3b143",
   "metadata": {},
   "outputs": [],
   "source": [
    "part2Map = {\n",
    "    \"AX\" : [\"C\", 3],\n",
    "    \"AY\" : [\"A\", 4],\n",
    "    \"AZ\" : [\"B\", 8],\n",
    "    \"BX\" : [\"A\", 1],\n",
    "    \"BY\" : [\"B\", 5],\n",
    "    \"BZ\" : [\"C\", 9],\n",
    "    \"CX\" : [\"B\", 2],\n",
    "    \"CY\" : [\"C\", 6],\n",
    "    \"CZ\" : [\"A\", 7],\n",
    "}"
   ]
  },
  {
   "cell_type": "code",
   "execution_count": 18,
   "id": "f9086ee7-b6b6-4bd1-b38f-63face62acfc",
   "metadata": {},
   "outputs": [
    {
     "data": {
      "text/html": [
       "<div>\n",
       "<style scoped>\n",
       "    .dataframe tbody tr th:only-of-type {\n",
       "        vertical-align: middle;\n",
       "    }\n",
       "\n",
       "    .dataframe tbody tr th {\n",
       "        vertical-align: top;\n",
       "    }\n",
       "\n",
       "    .dataframe thead th {\n",
       "        text-align: right;\n",
       "    }\n",
       "</style>\n",
       "<table border=\"1\" class=\"dataframe\">\n",
       "  <thead>\n",
       "    <tr style=\"text-align: right;\">\n",
       "      <th></th>\n",
       "      <th>0</th>\n",
       "      <th>opponent</th>\n",
       "      <th>unsure</th>\n",
       "      <th>myStrate</th>\n",
       "      <th>resultHands</th>\n",
       "      <th>pointsAwarded</th>\n",
       "      <th>encryptedStrategyGuide</th>\n",
       "    </tr>\n",
       "  </thead>\n",
       "  <tbody>\n",
       "    <tr>\n",
       "      <th>0</th>\n",
       "      <td>C X</td>\n",
       "      <td>C</td>\n",
       "      <td>X</td>\n",
       "      <td>Z</td>\n",
       "      <td>CZ</td>\n",
       "      <td>6</td>\n",
       "      <td>CX</td>\n",
       "    </tr>\n",
       "    <tr>\n",
       "      <th>1</th>\n",
       "      <td>B Y</td>\n",
       "      <td>B</td>\n",
       "      <td>Y</td>\n",
       "      <td>X</td>\n",
       "      <td>BX</td>\n",
       "      <td>1</td>\n",
       "      <td>BY</td>\n",
       "    </tr>\n",
       "    <tr>\n",
       "      <th>2</th>\n",
       "      <td>C Z</td>\n",
       "      <td>C</td>\n",
       "      <td>Z</td>\n",
       "      <td>Z</td>\n",
       "      <td>CZ</td>\n",
       "      <td>6</td>\n",
       "      <td>CZ</td>\n",
       "    </tr>\n",
       "    <tr>\n",
       "      <th>3</th>\n",
       "      <td>C Z</td>\n",
       "      <td>C</td>\n",
       "      <td>Z</td>\n",
       "      <td>Z</td>\n",
       "      <td>CZ</td>\n",
       "      <td>6</td>\n",
       "      <td>CZ</td>\n",
       "    </tr>\n",
       "    <tr>\n",
       "      <th>4</th>\n",
       "      <td>B X</td>\n",
       "      <td>B</td>\n",
       "      <td>X</td>\n",
       "      <td>X</td>\n",
       "      <td>BX</td>\n",
       "      <td>1</td>\n",
       "      <td>BX</td>\n",
       "    </tr>\n",
       "    <tr>\n",
       "      <th>...</th>\n",
       "      <td>...</td>\n",
       "      <td>...</td>\n",
       "      <td>...</td>\n",
       "      <td>...</td>\n",
       "      <td>...</td>\n",
       "      <td>...</td>\n",
       "      <td>...</td>\n",
       "    </tr>\n",
       "    <tr>\n",
       "      <th>2495</th>\n",
       "      <td>B Z</td>\n",
       "      <td>B</td>\n",
       "      <td>Z</td>\n",
       "      <td>X</td>\n",
       "      <td>BX</td>\n",
       "      <td>1</td>\n",
       "      <td>BZ</td>\n",
       "    </tr>\n",
       "    <tr>\n",
       "      <th>2496</th>\n",
       "      <td>A X</td>\n",
       "      <td>A</td>\n",
       "      <td>X</td>\n",
       "      <td>Y</td>\n",
       "      <td>AY</td>\n",
       "      <td>8</td>\n",
       "      <td>AX</td>\n",
       "    </tr>\n",
       "    <tr>\n",
       "      <th>2497</th>\n",
       "      <td>A X</td>\n",
       "      <td>A</td>\n",
       "      <td>X</td>\n",
       "      <td>Y</td>\n",
       "      <td>AY</td>\n",
       "      <td>8</td>\n",
       "      <td>AX</td>\n",
       "    </tr>\n",
       "    <tr>\n",
       "      <th>2498</th>\n",
       "      <td>C Y</td>\n",
       "      <td>C</td>\n",
       "      <td>Y</td>\n",
       "      <td>Z</td>\n",
       "      <td>CZ</td>\n",
       "      <td>6</td>\n",
       "      <td>CY</td>\n",
       "    </tr>\n",
       "    <tr>\n",
       "      <th>2499</th>\n",
       "      <td>B X</td>\n",
       "      <td>B</td>\n",
       "      <td>X</td>\n",
       "      <td>X</td>\n",
       "      <td>BX</td>\n",
       "      <td>1</td>\n",
       "      <td>BX</td>\n",
       "    </tr>\n",
       "  </tbody>\n",
       "</table>\n",
       "<p>2500 rows × 7 columns</p>\n",
       "</div>"
      ],
      "text/plain": [
       "        0 opponent unsure myStrate resultHands  pointsAwarded  \\\n",
       "0     C X        C      X        Z          CZ              6   \n",
       "1     B Y        B      Y        X          BX              1   \n",
       "2     C Z        C      Z        Z          CZ              6   \n",
       "3     C Z        C      Z        Z          CZ              6   \n",
       "4     B X        B      X        X          BX              1   \n",
       "...   ...      ...    ...      ...         ...            ...   \n",
       "2495  B Z        B      Z        X          BX              1   \n",
       "2496  A X        A      X        Y          AY              8   \n",
       "2497  A X        A      X        Y          AY              8   \n",
       "2498  C Y        C      Y        Z          CZ              6   \n",
       "2499  B X        B      X        X          BX              1   \n",
       "\n",
       "     encryptedStrategyGuide  \n",
       "0                        CX  \n",
       "1                        BY  \n",
       "2                        CZ  \n",
       "3                        CZ  \n",
       "4                        BX  \n",
       "...                     ...  \n",
       "2495                     BZ  \n",
       "2496                     AX  \n",
       "2497                     AX  \n",
       "2498                     CY  \n",
       "2499                     BX  \n",
       "\n",
       "[2500 rows x 7 columns]"
      ]
     },
     "execution_count": 18,
     "metadata": {},
     "output_type": "execute_result"
    }
   ],
   "source": [
    "df"
   ]
  },
  {
   "cell_type": "code",
   "execution_count": 19,
   "id": "052a2a92-53c5-4e26-9ce0-8347eefb2926",
   "metadata": {},
   "outputs": [],
   "source": [
    "df['part2HandPlayed'] = df.encryptedStrategyGuide.map(part2Map)"
   ]
  },
  {
   "cell_type": "code",
   "execution_count": 20,
   "id": "cacb13ad-8964-47f4-95fd-017ff9149f11",
   "metadata": {},
   "outputs": [
    {
     "data": {
      "text/html": [
       "<div>\n",
       "<style scoped>\n",
       "    .dataframe tbody tr th:only-of-type {\n",
       "        vertical-align: middle;\n",
       "    }\n",
       "\n",
       "    .dataframe tbody tr th {\n",
       "        vertical-align: top;\n",
       "    }\n",
       "\n",
       "    .dataframe thead th {\n",
       "        text-align: right;\n",
       "    }\n",
       "</style>\n",
       "<table border=\"1\" class=\"dataframe\">\n",
       "  <thead>\n",
       "    <tr style=\"text-align: right;\">\n",
       "      <th></th>\n",
       "      <th>0</th>\n",
       "      <th>opponent</th>\n",
       "      <th>unsure</th>\n",
       "      <th>myStrate</th>\n",
       "      <th>resultHands</th>\n",
       "      <th>pointsAwarded</th>\n",
       "      <th>encryptedStrategyGuide</th>\n",
       "      <th>part2HandPlayed</th>\n",
       "    </tr>\n",
       "  </thead>\n",
       "  <tbody>\n",
       "    <tr>\n",
       "      <th>0</th>\n",
       "      <td>C X</td>\n",
       "      <td>C</td>\n",
       "      <td>X</td>\n",
       "      <td>Z</td>\n",
       "      <td>CZ</td>\n",
       "      <td>6</td>\n",
       "      <td>CX</td>\n",
       "      <td>[B, 2]</td>\n",
       "    </tr>\n",
       "    <tr>\n",
       "      <th>1</th>\n",
       "      <td>B Y</td>\n",
       "      <td>B</td>\n",
       "      <td>Y</td>\n",
       "      <td>X</td>\n",
       "      <td>BX</td>\n",
       "      <td>1</td>\n",
       "      <td>BY</td>\n",
       "      <td>[B, 5]</td>\n",
       "    </tr>\n",
       "    <tr>\n",
       "      <th>2</th>\n",
       "      <td>C Z</td>\n",
       "      <td>C</td>\n",
       "      <td>Z</td>\n",
       "      <td>Z</td>\n",
       "      <td>CZ</td>\n",
       "      <td>6</td>\n",
       "      <td>CZ</td>\n",
       "      <td>[A, 7]</td>\n",
       "    </tr>\n",
       "    <tr>\n",
       "      <th>3</th>\n",
       "      <td>C Z</td>\n",
       "      <td>C</td>\n",
       "      <td>Z</td>\n",
       "      <td>Z</td>\n",
       "      <td>CZ</td>\n",
       "      <td>6</td>\n",
       "      <td>CZ</td>\n",
       "      <td>[A, 7]</td>\n",
       "    </tr>\n",
       "    <tr>\n",
       "      <th>4</th>\n",
       "      <td>B X</td>\n",
       "      <td>B</td>\n",
       "      <td>X</td>\n",
       "      <td>X</td>\n",
       "      <td>BX</td>\n",
       "      <td>1</td>\n",
       "      <td>BX</td>\n",
       "      <td>[A, 1]</td>\n",
       "    </tr>\n",
       "    <tr>\n",
       "      <th>...</th>\n",
       "      <td>...</td>\n",
       "      <td>...</td>\n",
       "      <td>...</td>\n",
       "      <td>...</td>\n",
       "      <td>...</td>\n",
       "      <td>...</td>\n",
       "      <td>...</td>\n",
       "      <td>...</td>\n",
       "    </tr>\n",
       "    <tr>\n",
       "      <th>2495</th>\n",
       "      <td>B Z</td>\n",
       "      <td>B</td>\n",
       "      <td>Z</td>\n",
       "      <td>X</td>\n",
       "      <td>BX</td>\n",
       "      <td>1</td>\n",
       "      <td>BZ</td>\n",
       "      <td>[C, 9]</td>\n",
       "    </tr>\n",
       "    <tr>\n",
       "      <th>2496</th>\n",
       "      <td>A X</td>\n",
       "      <td>A</td>\n",
       "      <td>X</td>\n",
       "      <td>Y</td>\n",
       "      <td>AY</td>\n",
       "      <td>8</td>\n",
       "      <td>AX</td>\n",
       "      <td>[C, 3]</td>\n",
       "    </tr>\n",
       "    <tr>\n",
       "      <th>2497</th>\n",
       "      <td>A X</td>\n",
       "      <td>A</td>\n",
       "      <td>X</td>\n",
       "      <td>Y</td>\n",
       "      <td>AY</td>\n",
       "      <td>8</td>\n",
       "      <td>AX</td>\n",
       "      <td>[C, 3]</td>\n",
       "    </tr>\n",
       "    <tr>\n",
       "      <th>2498</th>\n",
       "      <td>C Y</td>\n",
       "      <td>C</td>\n",
       "      <td>Y</td>\n",
       "      <td>Z</td>\n",
       "      <td>CZ</td>\n",
       "      <td>6</td>\n",
       "      <td>CY</td>\n",
       "      <td>[C, 6]</td>\n",
       "    </tr>\n",
       "    <tr>\n",
       "      <th>2499</th>\n",
       "      <td>B X</td>\n",
       "      <td>B</td>\n",
       "      <td>X</td>\n",
       "      <td>X</td>\n",
       "      <td>BX</td>\n",
       "      <td>1</td>\n",
       "      <td>BX</td>\n",
       "      <td>[A, 1]</td>\n",
       "    </tr>\n",
       "  </tbody>\n",
       "</table>\n",
       "<p>2500 rows × 8 columns</p>\n",
       "</div>"
      ],
      "text/plain": [
       "        0 opponent unsure myStrate resultHands  pointsAwarded  \\\n",
       "0     C X        C      X        Z          CZ              6   \n",
       "1     B Y        B      Y        X          BX              1   \n",
       "2     C Z        C      Z        Z          CZ              6   \n",
       "3     C Z        C      Z        Z          CZ              6   \n",
       "4     B X        B      X        X          BX              1   \n",
       "...   ...      ...    ...      ...         ...            ...   \n",
       "2495  B Z        B      Z        X          BX              1   \n",
       "2496  A X        A      X        Y          AY              8   \n",
       "2497  A X        A      X        Y          AY              8   \n",
       "2498  C Y        C      Y        Z          CZ              6   \n",
       "2499  B X        B      X        X          BX              1   \n",
       "\n",
       "     encryptedStrategyGuide part2HandPlayed  \n",
       "0                        CX          [B, 2]  \n",
       "1                        BY          [B, 5]  \n",
       "2                        CZ          [A, 7]  \n",
       "3                        CZ          [A, 7]  \n",
       "4                        BX          [A, 1]  \n",
       "...                     ...             ...  \n",
       "2495                     BZ          [C, 9]  \n",
       "2496                     AX          [C, 3]  \n",
       "2497                     AX          [C, 3]  \n",
       "2498                     CY          [C, 6]  \n",
       "2499                     BX          [A, 1]  \n",
       "\n",
       "[2500 rows x 8 columns]"
      ]
     },
     "execution_count": 20,
     "metadata": {},
     "output_type": "execute_result"
    }
   ],
   "source": [
    "df"
   ]
  },
  {
   "cell_type": "code",
   "execution_count": 21,
   "id": "150b1808-7897-4460-9146-02b5848b83a6",
   "metadata": {},
   "outputs": [],
   "source": [
    "df['part2PointsAwarded'] = df.part2HandPlayed.apply(lambda x: x[1])"
   ]
  },
  {
   "cell_type": "code",
   "execution_count": 22,
   "id": "c6de93e5-e954-4430-98e5-00bcbe8e156c",
   "metadata": {},
   "outputs": [
    {
     "data": {
      "text/plain": [
       "13131"
      ]
     },
     "execution_count": 22,
     "metadata": {},
     "output_type": "execute_result"
    }
   ],
   "source": [
    "df.part2PointsAwarded.sum()"
   ]
  },
  {
   "cell_type": "code",
   "execution_count": null,
   "id": "4c868e5b-93e8-49af-93ee-31e8f5f597d8",
   "metadata": {},
   "outputs": [],
   "source": []
  }
 ],
 "metadata": {
  "kernelspec": {
   "display_name": "Python 3.9.7 ('base')",
   "language": "python",
   "name": "python3"
  },
  "language_info": {
   "codemirror_mode": {
    "name": "ipython",
    "version": 3
   },
   "file_extension": ".py",
   "mimetype": "text/x-python",
   "name": "python",
   "nbconvert_exporter": "python",
   "pygments_lexer": "ipython3",
   "version": "3.9.7"
  },
  "vscode": {
   "interpreter": {
    "hash": "7a28e1cf06491d009c990fbdaa60c69c7ed332f8b90d3d5644cb6a7645f6bb50"
   }
  }
 },
 "nbformat": 4,
 "nbformat_minor": 5
}
